{
 "cells": [
  {
   "cell_type": "code",
   "execution_count": 4,
   "metadata": {},
   "outputs": [
    {
     "name": "stdout",
     "output_type": "stream",
     "text": [
<<<<<<< HEAD
      "3418\n"
=======
      "336\n"
>>>>>>> origin/main
     ]
    },
    {
     "name": "stderr",
     "output_type": "stream",
     "text": [
<<<<<<< HEAD
      "100%|██████████| 3418/3418 [00:01<00:00, 1998.67it/s]"
=======
      "100%|██████████| 336/336 [00:00<00:00, 4373.42it/s]"
>>>>>>> origin/main
     ]
    },
    {
     "name": "stdout",
     "output_type": "stream",
     "text": [
<<<<<<< HEAD
      "Finished moving 3418 files into the new dir\n"
=======
      "Finished moving 336 files into the new dir\n"
>>>>>>> origin/main
     ]
    },
    {
     "name": "stderr",
     "output_type": "stream",
     "text": [
      "\n"
     ]
    }
   ],
   "source": [
    "import os\n",
    "import shutil\n",
    "from tqdm import tqdm\n",
    "\n",
<<<<<<< HEAD
    "src_dir = '/media/Data-B/data/main_data/selected/turning_around_all'\n",
    "dst_dir = '/media/Data-B/data/main_data/main_data/train_cat_new/turning_around'\n",
=======
    "src_dir = '/media/Data-B/data/main_data/train_cat_new/falling_asleep_2'\n",
    "dst_dir = '/media/Data-B/data/main_data/train_cat_new/falling_asleep'\n",
>>>>>>> origin/main
    "def moving_files(src_dir, dst_dir):\n",
    "    if not os.path.exists(dst_dir):\n",
    "        os.makedirs(dst_dir)\n",
    "\n",
    "    # Get a list of all the files in the destination directory\n",
    "    existing_files = set(os.listdir(dst_dir))\n",
    "\n",
    "    all_files = os.listdir(src_dir)\n",
    "    print(len(all_files))\n",
    "\n",
    "    for image in tqdm(all_files):\n",
    "        src_path = os.path.join(src_dir, image)\n",
    "        dst_path = os.path.join(dst_dir, image)\n",
    "        if image in existing_files:\n",
    "            print(f\"Skipping {image} because it already exists in the destination directory.\")\n",
    "        else:\n",
    "            shutil.copy(src_path, dst_path)\n",
    "            existing_files.add(image)\n",
    "\n",
    "        shutil.move(src_path, dst_path)\n",
    "\n",
    "\n",
    "    print(f\"Finished moving {len(all_files)} files into the new dir\")\n",
    "\n",
    "moving_files(src_dir, dst_dir)\n",
    "\n"
   ]
  },
  {
   "cell_type": "code",
<<<<<<< HEAD
   "execution_count": 1,
=======
   "execution_count": 5,
>>>>>>> origin/main
   "metadata": {},
   "outputs": [
    {
     "name": "stderr",
     "output_type": "stream",
     "text": [
<<<<<<< HEAD
      "100%|██████████| 3500/3500 [00:01<00:00, 2397.38it/s]\n"
=======
      "100%|██████████| 1000/1000 [00:00<00:00, 2451.75it/s]\n"
>>>>>>> origin/main
     ]
    }
   ],
   "source": [
    "import os\n",
    "import random\n",
    "import shutil\n",
    "from tqdm import tqdm\n",
    "\n",
<<<<<<< HEAD
    "src_dir = '/media/Data-B/data/main_data/train_ppr_cat/turning around'\n",
    "dst_dir = '/media/Data-B/data/main_data/train_cat_new/turning_around_all'\n",
    "\n",
=======
    "src_dir = '/media/Data-B/data/main_data/train_ppr_cat/falling asleep'\n",
    "dst_dir = '/media/Data-B/data/main_data/train_cat_new/falling_asleep_2'\n",
>>>>>>> origin/main
    "\n",
    "def creating_cat(src_dir, dst_dir):\n",
    "    # Create the destination directory if it doesn't exist\n",
    "    if not os.path.exists(dst_dir):\n",
    "        os.makedirs(dst_dir)\n",
    "\n",
    "    # Get a list of all the files in the destination directory\n",
    "    existing_files = set(os.listdir(dst_dir))\n",
    "\n",
    "    # Get a list of all the image files in the source directory\n",
    "    all_files = os.listdir(src_dir)\n",
    "    image_files = [f for f in all_files if f.endswith(\".jpg\") or f.endswith(\".jpeg\")]\n",
    "\n",
    "    # Get a random sample of 10,000 image files\n",
    "    # random_images = random.sample(image_files, k=1000)\n",
    "\n",
    "    # Copy the random images to the destination directory\n",
<<<<<<< HEAD
    "    for image in tqdm(image_files[7500:11000]):\n",
=======
    "    for image in tqdm(image_files[14000:15000]):\n",
>>>>>>> origin/main
    "        src_path = os.path.join(src_dir, image)\n",
    "        dst_path = os.path.join(dst_dir, image)\n",
    "\n",
    "        if image in existing_files:\n",
    "            print(f\"skipping {image} to another dir because it already exists\")\n",
    "            \n",
    "        else:\n",
    "            shutil.copy(src_path, dst_path)\n",
    "            existing_files.add(image)\n",
    "\n",
    "\n",
    "creating_cat(src_dir, dst_dir)"
   ]
  },
  {
   "cell_type": "code",
   "execution_count": null,
   "metadata": {},
   "outputs": [],
   "source": []
  }
 ],
 "metadata": {
  "kernelspec": {
   "display_name": "base",
   "language": "python",
   "name": "python3"
  },
  "language_info": {
   "codemirror_mode": {
    "name": "ipython",
    "version": 3
   },
   "file_extension": ".py",
   "mimetype": "text/x-python",
   "name": "python",
   "nbconvert_exporter": "python",
   "pygments_lexer": "ipython3",
   "version": "3.9.13"
  },
  "orig_nbformat": 4
 },
 "nbformat": 4,
 "nbformat_minor": 2
}
