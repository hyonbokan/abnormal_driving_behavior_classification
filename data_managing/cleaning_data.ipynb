{
 "cells": [
  {
   "cell_type": "code",
   "execution_count": 3,
   "metadata": {},
   "outputs": [
    {
     "name": "stdout",
     "output_type": "stream",
     "text": [
      "2990\n"
     ]
    },
    {
     "name": "stderr",
     "output_type": "stream",
     "text": [
      "100%|██████████| 2990/2990 [00:00<00:00, 7752.15it/s]"
     ]
    },
    {
     "name": "stdout",
     "output_type": "stream",
     "text": [
      "Finished moving 2990 files into the new dir\n"
     ]
    },
    {
     "name": "stderr",
     "output_type": "stream",
     "text": [
      "\n"
     ]
    }
   ],
   "source": [
    "import os\n",
    "import shutil\n",
    "from tqdm import tqdm\n",
    "\n",
    "src_dir = '/media/Data-B/data/main_data/train_cat_new/yawning'\n",
    "dst_dir = '/media/Data-B/data/main_data/train_cat_new/yawning_all'\n",
    "def moving_files(src_dir, dst_dir):\n",
    "    if not os.path.exists(dst_dir):\n",
    "        os.makedirs(dst_dir)\n",
    "\n",
    "    # Get a list of all the files in the destination directory\n",
    "    existing_files = set(os.listdir(dst_dir))\n",
    "\n",
    "    all_files = os.listdir(src_dir)\n",
    "    print(len(all_files))\n",
    "\n",
    "    for image in tqdm(all_files):\n",
    "        src_path = os.path.join(src_dir, image)\n",
    "        dst_path = os.path.join(dst_dir, image)\n",
    "        if image in existing_files:\n",
    "            print(f\"Skipping {image} because it already exists in the destination directory.\")\n",
    "        else:\n",
    "            shutil.copy(src_path, dst_path)\n",
    "            existing_files.add(image)\n",
    "\n",
    "        shutil.move(src_path, dst_path)\n",
    "\n",
    "\n",
    "    print(f\"Finished moving {len(all_files)} files into the new dir\")\n",
    "\n",
    "moving_files(src_dir, dst_dir)\n",
    "\n"
   ]
  },
  {
   "cell_type": "code",
   "execution_count": 5,
   "metadata": {},
   "outputs": [
    {
     "name": "stderr",
     "output_type": "stream",
     "text": [
      "100%|██████████| 1000/1000 [00:00<00:00, 6796.51it/s]\n"
     ]
    }
   ],
   "source": [
    "import os\n",
    "import random\n",
    "import shutil\n",
    "from tqdm import tqdm\n",
    "\n",
    "src_dir = '/media/Data-B/data/main_data/train_ppr_cat/yawning'\n",
    "dst_dir = '/media/Data-B/data/main_data/train_cat_new/yawning'\n",
    "\n",
    "\n",
    "def creating_cat(src_dir, dst_dir):\n",
    "    # Create the destination directory if it doesn't exist\n",
    "    if not os.path.exists(dst_dir):\n",
    "        os.makedirs(dst_dir)\n",
    "\n",
    "    # Get a list of all the files in the destination directory\n",
    "    existing_files = set(os.listdir(dst_dir))\n",
    "\n",
    "    # Get a list of all the image files in the source directory\n",
    "    all_files = os.listdir(src_dir)\n",
    "    image_files = [f for f in all_files if f.endswith(\".jpg\") or f.endswith(\".jpeg\")]\n",
    "\n",
    "    # Get a random sample of 10,000 image files\n",
    "    # random_images = random.sample(image_files, k=1000)\n",
    "\n",
    "    # Copy the random images to the destination directory\n",
    "    for image in tqdm(image_files[5500:6500]):\n",
    "        src_path = os.path.join(src_dir, image)\n",
    "        dst_path = os.path.join(dst_dir, image)\n",
    "\n",
    "        if image in existing_files:\n",
    "            print(f\"skipping {image} to another dir because it already exists\")\n",
    "            \n",
    "        else:\n",
    "            shutil.copy(src_path, dst_path)\n",
    "            existing_files.add(image)\n",
    "\n",
    "\n",
    "creating_cat(src_dir, dst_dir)"
   ]
  },
  {
   "cell_type": "code",
   "execution_count": 8,
   "metadata": {},
   "outputs": [
    {
     "name": "stderr",
     "output_type": "stream",
     "text": [
      "100%|██████████| 331/331 [00:00<00:00, 739.89it/s]\n",
      "  5%|▍         | 161/3418 [00:00<00:04, 801.56it/s]"
     ]
    },
    {
     "name": "stdout",
     "output_type": "stream",
     "text": [
      "/media/Data-B/data/main_data/train_cat_new/turning_around/SGA2100164S0297IMG0005.jpg is same as /media/Data-B/data/main_data/val_cat_new/turning_around/SGA2100164S0297IMG0005.jpg\n",
      "/media/Data-B/data/main_data/train_cat_new/turning_around/SGA2101046S0798IMG0001.jpg is same as /media/Data-B/data/main_data/val_cat_new/turning_around/SGA2101046S0798IMG0001.jpg\n",
      "/media/Data-B/data/main_data/train_cat_new/turning_around/SGA2100361S0039IMG0005.jpg is same as /media/Data-B/data/main_data/val_cat_new/turning_around/SGA2100361S0039IMG0005.jpg\n",
      "/media/Data-B/data/main_data/train_cat_new/turning_around/SGA2100119S0591IMG0001.jpg is same as /media/Data-B/data/main_data/val_cat_new/turning_around/SGA2100119S0591IMG0001.jpg\n",
      "/media/Data-B/data/main_data/train_cat_new/turning_around/SGA2100263S0159IMG0004.jpg is same as /media/Data-B/data/main_data/val_cat_new/turning_around/SGA2100263S0159IMG0004.jpg\n",
      "/media/Data-B/data/main_data/train_cat_new/turning_around/SGA2101026S1651IMG0002.jpg is same as /media/Data-B/data/main_data/val_cat_new/turning_around/SGA2101026S1651IMG0002.jpg\n",
      "/media/Data-B/data/main_data/train_cat_new/turning_around/SGA2100310S0089IMG0003.jpg is same as /media/Data-B/data/main_data/val_cat_new/turning_around/SGA2100310S0089IMG0003.jpg\n",
      "/media/Data-B/data/main_data/train_cat_new/turning_around/SGA2100262S0160IMG0001.jpg is same as /media/Data-B/data/main_data/val_cat_new/turning_around/SGA2100262S0160IMG0001.jpg\n",
      "/media/Data-B/data/main_data/train_cat_new/turning_around/SGA2101026S0427IMG0002.jpg is same as /media/Data-B/data/main_data/val_cat_new/turning_around/SGA2101026S0427IMG0002.jpg\n",
      "/media/Data-B/data/main_data/train_cat_new/turning_around/SGA2100572S0165IMG0001.jpg is same as /media/Data-B/data/main_data/val_cat_new/turning_around/SGA2100572S0165IMG0001.jpg\n",
      "/media/Data-B/data/main_data/train_cat_new/turning_around/SGA2100593S0715IMG0004.jpg is same as /media/Data-B/data/main_data/val_cat_new/turning_around/SGA2100593S0715IMG0004.jpg\n",
      "/media/Data-B/data/main_data/train_cat_new/turning_around/SGA2100740S0226IMG0003.jpg is same as /media/Data-B/data/main_data/val_cat_new/turning_around/SGA2100740S0226IMG0003.jpg\n",
      "/media/Data-B/data/main_data/train_cat_new/turning_around/SGA2100859S0289IMG0005.jpg is same as /media/Data-B/data/main_data/val_cat_new/turning_around/SGA2100859S0289IMG0005.jpg\n"
     ]
    },
    {
     "name": "stderr",
     "output_type": "stream",
     "text": [
      "  9%|▉         | 322/3418 [00:00<00:04, 740.32it/s]"
     ]
    },
    {
     "name": "stdout",
     "output_type": "stream",
     "text": [
      "/media/Data-B/data/main_data/train_cat_new/turning_around/SGA2101161S0104IMG0002.jpg is same as /media/Data-B/data/main_data/val_cat_new/turning_around/SGA2101161S0104IMG0002.jpg\n",
      "/media/Data-B/data/main_data/train_cat_new/turning_around/SGA2100594S0556IMG0003.jpg is same as /media/Data-B/data/main_data/val_cat_new/turning_around/SGA2100594S0556IMG0003.jpg\n",
      "/media/Data-B/data/main_data/train_cat_new/turning_around/SGA2100352S0089IMG0004.jpg is same as /media/Data-B/data/main_data/val_cat_new/turning_around/SGA2100352S0089IMG0004.jpg\n",
      "/media/Data-B/data/main_data/train_cat_new/turning_around/SGA2100458S0688IMG0004.jpg is same as /media/Data-B/data/main_data/val_cat_new/turning_around/SGA2100458S0688IMG0004.jpg\n",
      "/media/Data-B/data/main_data/train_cat_new/turning_around/SGA2100614S2495IMG0002.jpg is same as /media/Data-B/data/main_data/val_cat_new/turning_around/SGA2100614S2495IMG0002.jpg\n",
      "/media/Data-B/data/main_data/train_cat_new/turning_around/SGA2100191S0219IMG0004.jpg is same as /media/Data-B/data/main_data/val_cat_new/turning_around/SGA2100191S0219IMG0004.jpg\n",
      "/media/Data-B/data/main_data/train_cat_new/turning_around/SGA2100682S0007IMG0004.jpg is same as /media/Data-B/data/main_data/val_cat_new/turning_around/SGA2100682S0007IMG0004.jpg\n",
      "/media/Data-B/data/main_data/train_cat_new/turning_around/SGA2100724S0190IMG0001.jpg is same as /media/Data-B/data/main_data/val_cat_new/turning_around/SGA2100724S0190IMG0001.jpg\n",
      "/media/Data-B/data/main_data/train_cat_new/turning_around/SGA2100031S0200IMG0003.jpg is same as /media/Data-B/data/main_data/val_cat_new/turning_around/SGA2100031S0200IMG0003.jpg\n",
      "/media/Data-B/data/main_data/train_cat_new/turning_around/SGA2100386S0112IMG0004.jpg is same as /media/Data-B/data/main_data/val_cat_new/turning_around/SGA2100386S0112IMG0004.jpg\n",
      "/media/Data-B/data/main_data/train_cat_new/turning_around/SGA2101026S1660IMG0002.jpg is same as /media/Data-B/data/main_data/val_cat_new/turning_around/SGA2101026S1660IMG0002.jpg\n",
      "/media/Data-B/data/main_data/train_cat_new/turning_around/SGA2100330S0036IMG0002.jpg is same as /media/Data-B/data/main_data/val_cat_new/turning_around/SGA2100330S0036IMG0002.jpg\n",
      "/media/Data-B/data/main_data/train_cat_new/turning_around/SGA2100049S0147IMG0003.jpg is same as /media/Data-B/data/main_data/val_cat_new/turning_around/SGA2100049S0147IMG0003.jpg\n",
      "/media/Data-B/data/main_data/train_cat_new/turning_around/SGA2101175S0248IMG0005.jpg is same as /media/Data-B/data/main_data/val_cat_new/turning_around/SGA2101175S0248IMG0005.jpg\n",
      "/media/Data-B/data/main_data/train_cat_new/turning_around/SGA2100753S0812IMG0002.jpg is same as /media/Data-B/data/main_data/val_cat_new/turning_around/SGA2100753S0812IMG0002.jpg\n",
      "/media/Data-B/data/main_data/train_cat_new/turning_around/SGA2100744S1503IMG0004.jpg is same as /media/Data-B/data/main_data/val_cat_new/turning_around/SGA2100744S1503IMG0004.jpg\n",
      "/media/Data-B/data/main_data/train_cat_new/turning_around/SGA2100020S0196IMG0004.jpg is same as /media/Data-B/data/main_data/val_cat_new/turning_around/SGA2100020S0196IMG0004.jpg\n",
      "/media/Data-B/data/main_data/train_cat_new/turning_around/SGA2100447S0133IMG0005.jpg is same as /media/Data-B/data/main_data/val_cat_new/turning_around/SGA2100447S0133IMG0005.jpg\n",
      "/media/Data-B/data/main_data/train_cat_new/turning_around/SGA2100024S0083IMG0004.jpg is same as /media/Data-B/data/main_data/val_cat_new/turning_around/SGA2100024S0083IMG0004.jpg\n",
      "/media/Data-B/data/main_data/train_cat_new/turning_around/SGA2100772S0355IMG0003.jpg is same as /media/Data-B/data/main_data/val_cat_new/turning_around/SGA2100772S0355IMG0003.jpg\n"
     ]
    },
    {
     "name": "stderr",
     "output_type": "stream",
     "text": [
      " 14%|█▍        | 484/3418 [00:00<00:03, 774.82it/s]"
     ]
    },
    {
     "name": "stdout",
     "output_type": "stream",
     "text": [
      "/media/Data-B/data/main_data/train_cat_new/turning_around/SGA2100178S0098IMG0004.jpg is same as /media/Data-B/data/main_data/val_cat_new/turning_around/SGA2100178S0098IMG0004.jpg\n",
      "/media/Data-B/data/main_data/train_cat_new/turning_around/SGA2101340S1412IMG0004.jpg is same as /media/Data-B/data/main_data/val_cat_new/turning_around/SGA2101340S1412IMG0004.jpg\n",
      "/media/Data-B/data/main_data/train_cat_new/turning_around/SGA2101319S0208IMG0002.jpg is same as /media/Data-B/data/main_data/val_cat_new/turning_around/SGA2101319S0208IMG0002.jpg\n",
      "/media/Data-B/data/main_data/train_cat_new/turning_around/SGA2100259S0161IMG0005.jpg is same as /media/Data-B/data/main_data/val_cat_new/turning_around/SGA2100259S0161IMG0005.jpg\n",
      "/media/Data-B/data/main_data/train_cat_new/turning_around/SGA2100595S0646IMG0002.jpg is same as /media/Data-B/data/main_data/val_cat_new/turning_around/SGA2100595S0646IMG0002.jpg\n",
      "/media/Data-B/data/main_data/train_cat_new/turning_around/SGA2100691S0094IMG0001.jpg is same as /media/Data-B/data/main_data/val_cat_new/turning_around/SGA2100691S0094IMG0001.jpg\n",
      "/media/Data-B/data/main_data/train_cat_new/turning_around/SGA2100581S0653IMG0001.jpg is same as /media/Data-B/data/main_data/val_cat_new/turning_around/SGA2100581S0653IMG0001.jpg\n",
      "/media/Data-B/data/main_data/train_cat_new/turning_around/SGA2101337S0395IMG0005.jpg is same as /media/Data-B/data/main_data/val_cat_new/turning_around/SGA2101337S0395IMG0005.jpg\n",
      "/media/Data-B/data/main_data/train_cat_new/turning_around/SGA2100638S0246IMG0004.jpg is same as /media/Data-B/data/main_data/val_cat_new/turning_around/SGA2100638S0246IMG0004.jpg\n",
      "/media/Data-B/data/main_data/train_cat_new/turning_around/SGA2100180S0153IMG0004.jpg is same as /media/Data-B/data/main_data/val_cat_new/turning_around/SGA2100180S0153IMG0004.jpg\n",
      "/media/Data-B/data/main_data/train_cat_new/turning_around/SGA2100602S0648IMG0004.jpg is same as /media/Data-B/data/main_data/val_cat_new/turning_around/SGA2100602S0648IMG0004.jpg\n",
      "/media/Data-B/data/main_data/train_cat_new/turning_around/SGA2101185S0058IMG0004.jpg is same as /media/Data-B/data/main_data/val_cat_new/turning_around/SGA2101185S0058IMG0004.jpg\n",
      "/media/Data-B/data/main_data/train_cat_new/turning_around/SGA2100679S1400IMG0002.jpg is same as /media/Data-B/data/main_data/val_cat_new/turning_around/SGA2100679S1400IMG0002.jpg\n",
      "/media/Data-B/data/main_data/train_cat_new/turning_around/SGA2101046S0423IMG0002.jpg is same as /media/Data-B/data/main_data/val_cat_new/turning_around/SGA2101046S0423IMG0002.jpg\n",
      "/media/Data-B/data/main_data/train_cat_new/turning_around/SGA2100433S0339IMG0002.jpg is same as /media/Data-B/data/main_data/val_cat_new/turning_around/SGA2100433S0339IMG0002.jpg\n",
      "/media/Data-B/data/main_data/train_cat_new/turning_around/SGA2100262S0082IMG0003.jpg is same as /media/Data-B/data/main_data/val_cat_new/turning_around/SGA2100262S0082IMG0003.jpg\n",
      "/media/Data-B/data/main_data/train_cat_new/turning_around/SGA2101189S0120IMG0003.jpg is same as /media/Data-B/data/main_data/val_cat_new/turning_around/SGA2101189S0120IMG0003.jpg\n"
     ]
    },
    {
     "name": "stderr",
     "output_type": "stream",
     "text": [
      " 19%|█▉        | 647/3418 [00:00<00:03, 794.70it/s]"
     ]
    },
    {
     "name": "stdout",
     "output_type": "stream",
     "text": [
      "/media/Data-B/data/main_data/train_cat_new/turning_around/SGA2100484S0327IMG0005.jpg is same as /media/Data-B/data/main_data/val_cat_new/turning_around/SGA2100484S0327IMG0005.jpg\n",
      "/media/Data-B/data/main_data/train_cat_new/turning_around/SGA2100595S0647IMG0002.jpg is same as /media/Data-B/data/main_data/val_cat_new/turning_around/SGA2100595S0647IMG0002.jpg\n",
      "/media/Data-B/data/main_data/train_cat_new/turning_around/SGA2101026S0148IMG0001.jpg is same as /media/Data-B/data/main_data/val_cat_new/turning_around/SGA2101026S0148IMG0001.jpg\n",
      "/media/Data-B/data/main_data/train_cat_new/turning_around/SGA2100263S0157IMG0004.jpg is same as /media/Data-B/data/main_data/val_cat_new/turning_around/SGA2100263S0157IMG0004.jpg\n",
      "/media/Data-B/data/main_data/train_cat_new/turning_around/SGA2100223S0215IMG0002.jpg is same as /media/Data-B/data/main_data/val_cat_new/turning_around/SGA2100223S0215IMG0002.jpg\n",
      "/media/Data-B/data/main_data/train_cat_new/turning_around/SGA2101152S0103IMG0002.jpg is same as /media/Data-B/data/main_data/val_cat_new/turning_around/SGA2101152S0103IMG0002.jpg\n",
      "/media/Data-B/data/main_data/train_cat_new/turning_around/SGA2100199S0328IMG0003.jpg is same as /media/Data-B/data/main_data/val_cat_new/turning_around/SGA2100199S0328IMG0003.jpg\n",
      "/media/Data-B/data/main_data/train_cat_new/turning_around/SGA2100267S0180IMG0002.jpg is same as /media/Data-B/data/main_data/val_cat_new/turning_around/SGA2100267S0180IMG0002.jpg\n",
      "/media/Data-B/data/main_data/train_cat_new/turning_around/SGA2100591S0695IMG0005.jpg is same as /media/Data-B/data/main_data/val_cat_new/turning_around/SGA2100591S0695IMG0005.jpg\n",
      "/media/Data-B/data/main_data/train_cat_new/turning_around/SGA2100408S0114IMG0003.jpg is same as /media/Data-B/data/main_data/val_cat_new/turning_around/SGA2100408S0114IMG0003.jpg\n",
      "/media/Data-B/data/main_data/train_cat_new/turning_around/SGA2100249S0205IMG0003.jpg is same as /media/Data-B/data/main_data/val_cat_new/turning_around/SGA2100249S0205IMG0003.jpg\n",
      "/media/Data-B/data/main_data/train_cat_new/turning_around/SGA2100837S0759IMG0004.jpg is same as /media/Data-B/data/main_data/val_cat_new/turning_around/SGA2100837S0759IMG0004.jpg\n",
      "/media/Data-B/data/main_data/train_cat_new/turning_around/SGA2101319S0170IMG0003.jpg is same as /media/Data-B/data/main_data/val_cat_new/turning_around/SGA2101319S0170IMG0003.jpg\n",
      "/media/Data-B/data/main_data/train_cat_new/turning_around/SGA2100772S0407IMG0001.jpg is same as /media/Data-B/data/main_data/val_cat_new/turning_around/SGA2100772S0407IMG0001.jpg\n",
      "/media/Data-B/data/main_data/train_cat_new/turning_around/SGA2100612S0241IMG0003.jpg is same as /media/Data-B/data/main_data/val_cat_new/turning_around/SGA2100612S0241IMG0003.jpg\n"
     ]
    },
    {
     "name": "stderr",
     "output_type": "stream",
     "text": [
      " 24%|██▎       | 806/3418 [00:01<00:03, 779.31it/s]"
     ]
    },
    {
     "name": "stdout",
     "output_type": "stream",
     "text": [
      "/media/Data-B/data/main_data/train_cat_new/turning_around/SGA2100214S0399IMG0004.jpg is same as /media/Data-B/data/main_data/val_cat_new/turning_around/SGA2100214S0399IMG0004.jpg\n",
      "/media/Data-B/data/main_data/train_cat_new/turning_around/SGA2100186S0293IMG0001.jpg is same as /media/Data-B/data/main_data/val_cat_new/turning_around/SGA2100186S0293IMG0001.jpg\n",
      "/media/Data-B/data/main_data/train_cat_new/turning_around/SGA2100262S0090IMG0003.jpg is same as /media/Data-B/data/main_data/val_cat_new/turning_around/SGA2100262S0090IMG0003.jpg\n",
      "/media/Data-B/data/main_data/train_cat_new/turning_around/SGA2101046S0629IMG0003.jpg is same as /media/Data-B/data/main_data/val_cat_new/turning_around/SGA2101046S0629IMG0003.jpg\n",
      "/media/Data-B/data/main_data/train_cat_new/turning_around/SGA2101026S0796IMG0002.jpg is same as /media/Data-B/data/main_data/val_cat_new/turning_around/SGA2101026S0796IMG0002.jpg\n",
      "/media/Data-B/data/main_data/train_cat_new/turning_around/SGA2100293S0139IMG0004.jpg is same as /media/Data-B/data/main_data/val_cat_new/turning_around/SGA2100293S0139IMG0004.jpg\n",
      "/media/Data-B/data/main_data/train_cat_new/turning_around/SGA2100769S0081IMG0005.jpg is same as /media/Data-B/data/main_data/val_cat_new/turning_around/SGA2100769S0081IMG0005.jpg\n",
      "/media/Data-B/data/main_data/train_cat_new/turning_around/SGA2100682S0016IMG0003.jpg is same as /media/Data-B/data/main_data/val_cat_new/turning_around/SGA2100682S0016IMG0003.jpg\n",
      "/media/Data-B/data/main_data/train_cat_new/turning_around/SGA2101228S0531IMG0003.jpg is same as /media/Data-B/data/main_data/val_cat_new/turning_around/SGA2101228S0531IMG0003.jpg\n",
      "/media/Data-B/data/main_data/train_cat_new/turning_around/SGA2100590S0608IMG0001.jpg is same as /media/Data-B/data/main_data/val_cat_new/turning_around/SGA2100590S0608IMG0001.jpg\n",
      "/media/Data-B/data/main_data/train_cat_new/turning_around/SGA2100517S0426IMG0002.jpg is same as /media/Data-B/data/main_data/val_cat_new/turning_around/SGA2100517S0426IMG0002.jpg\n",
      "/media/Data-B/data/main_data/train_cat_new/turning_around/SGA2100786S0317IMG0002.jpg is same as /media/Data-B/data/main_data/val_cat_new/turning_around/SGA2100786S0317IMG0002.jpg\n",
      "/media/Data-B/data/main_data/train_cat_new/turning_around/SGA2100786S1277IMG0002.jpg is same as /media/Data-B/data/main_data/val_cat_new/turning_around/SGA2100786S1277IMG0002.jpg\n",
      "/media/Data-B/data/main_data/train_cat_new/turning_around/SGA2100048S0282IMG0002.jpg is same as /media/Data-B/data/main_data/val_cat_new/turning_around/SGA2100048S0282IMG0002.jpg\n",
      "/media/Data-B/data/main_data/train_cat_new/turning_around/SGA2100146S0495IMG0005.jpg is same as /media/Data-B/data/main_data/val_cat_new/turning_around/SGA2100146S0495IMG0005.jpg\n",
      "/media/Data-B/data/main_data/train_cat_new/turning_around/SGA2101046S0496IMG0002.jpg is same as /media/Data-B/data/main_data/val_cat_new/turning_around/SGA2101046S0496IMG0002.jpg\n",
      "/media/Data-B/data/main_data/train_cat_new/turning_around/SGA2101158S0284IMG0001.jpg is same as /media/Data-B/data/main_data/val_cat_new/turning_around/SGA2101158S0284IMG0001.jpg\n",
      "/media/Data-B/data/main_data/train_cat_new/turning_around/SGA2100017S0023IMG0003.jpg is same as /media/Data-B/data/main_data/val_cat_new/turning_around/SGA2100017S0023IMG0003.jpg\n",
      "/media/Data-B/data/main_data/train_cat_new/turning_around/SGA2100281S0231IMG0003.jpg is same as /media/Data-B/data/main_data/val_cat_new/turning_around/SGA2100281S0231IMG0003.jpg\n"
     ]
    },
    {
     "name": "stderr",
     "output_type": "stream",
     "text": [
      " 29%|██▉       | 987/3418 [00:01<00:02, 850.28it/s]"
     ]
    },
    {
     "name": "stdout",
     "output_type": "stream",
     "text": [
      "/media/Data-B/data/main_data/train_cat_new/turning_around/SGA2100369S0434IMG0003.jpg is same as /media/Data-B/data/main_data/val_cat_new/turning_around/SGA2100369S0434IMG0003.jpg\n",
      "/media/Data-B/data/main_data/train_cat_new/turning_around/SGA2100293S0254IMG0003.jpg is same as /media/Data-B/data/main_data/val_cat_new/turning_around/SGA2100293S0254IMG0003.jpg\n",
      "/media/Data-B/data/main_data/train_cat_new/turning_around/SGA2100178S0190IMG0002.jpg is same as /media/Data-B/data/main_data/val_cat_new/turning_around/SGA2100178S0190IMG0002.jpg\n",
      "/media/Data-B/data/main_data/train_cat_new/turning_around/SGA2100398S0070IMG0003.jpg is same as /media/Data-B/data/main_data/val_cat_new/turning_around/SGA2100398S0070IMG0003.jpg\n",
      "/media/Data-B/data/main_data/train_cat_new/turning_around/SGA2100599S0552IMG0003.jpg is same as /media/Data-B/data/main_data/val_cat_new/turning_around/SGA2100599S0552IMG0003.jpg\n",
      "/media/Data-B/data/main_data/train_cat_new/turning_around/SGA2100775S0085IMG0003.jpg is same as /media/Data-B/data/main_data/val_cat_new/turning_around/SGA2100775S0085IMG0003.jpg\n",
      "/media/Data-B/data/main_data/train_cat_new/turning_around/SGA2101201S0259IMG0002.jpg is same as /media/Data-B/data/main_data/val_cat_new/turning_around/SGA2101201S0259IMG0002.jpg\n",
      "/media/Data-B/data/main_data/train_cat_new/turning_around/SGA2100398S0060IMG0004.jpg is same as /media/Data-B/data/main_data/val_cat_new/turning_around/SGA2100398S0060IMG0004.jpg\n",
      "/media/Data-B/data/main_data/train_cat_new/turning_around/SGA2100756S2146IMG0005.jpg is same as /media/Data-B/data/main_data/val_cat_new/turning_around/SGA2100756S2146IMG0005.jpg\n",
      "/media/Data-B/data/main_data/train_cat_new/turning_around/SGA2100056S0067IMG0004.jpg is same as /media/Data-B/data/main_data/val_cat_new/turning_around/SGA2100056S0067IMG0004.jpg\n",
      "/media/Data-B/data/main_data/train_cat_new/turning_around/SGA2100931S0926IMG0002.jpg is same as /media/Data-B/data/main_data/val_cat_new/turning_around/SGA2100931S0926IMG0002.jpg\n",
      "/media/Data-B/data/main_data/train_cat_new/turning_around/SGA2100044S0272IMG0002.jpg is same as /media/Data-B/data/main_data/val_cat_new/turning_around/SGA2100044S0272IMG0002.jpg\n",
      "/media/Data-B/data/main_data/train_cat_new/turning_around/SGA2100082S0281IMG0003.jpg is same as /media/Data-B/data/main_data/val_cat_new/turning_around/SGA2100082S0281IMG0003.jpg\n",
      "/media/Data-B/data/main_data/train_cat_new/turning_around/SGA2100115S0283IMG0005.jpg is same as /media/Data-B/data/main_data/val_cat_new/turning_around/SGA2100115S0283IMG0005.jpg\n",
      "/media/Data-B/data/main_data/train_cat_new/turning_around/SGA2100253S0197IMG0004.jpg is same as /media/Data-B/data/main_data/val_cat_new/turning_around/SGA2100253S0197IMG0004.jpg\n",
      "/media/Data-B/data/main_data/train_cat_new/turning_around/SGA2101046S0570IMG0002.jpg is same as /media/Data-B/data/main_data/val_cat_new/turning_around/SGA2101046S0570IMG0002.jpg\n",
      "/media/Data-B/data/main_data/train_cat_new/turning_around/SGA2101167S0258IMG0003.jpg is same as /media/Data-B/data/main_data/val_cat_new/turning_around/SGA2101167S0258IMG0003.jpg\n",
      "/media/Data-B/data/main_data/train_cat_new/turning_around/SGA2100835S0144IMG0002.jpg is same as /media/Data-B/data/main_data/val_cat_new/turning_around/SGA2100835S0144IMG0002.jpg\n",
      "/media/Data-B/data/main_data/train_cat_new/turning_around/SGA2100508S0054IMG0003.jpg is same as /media/Data-B/data/main_data/val_cat_new/turning_around/SGA2100508S0054IMG0003.jpg\n",
      "/media/Data-B/data/main_data/train_cat_new/turning_around/SGA2100003S0647IMG0004.jpg is same as /media/Data-B/data/main_data/val_cat_new/turning_around/SGA2100003S0647IMG0004.jpg\n",
      "/media/Data-B/data/main_data/train_cat_new/turning_around/SGA2100506S0206IMG0002.jpg is same as /media/Data-B/data/main_data/val_cat_new/turning_around/SGA2100506S0206IMG0002.jpg\n",
      "/media/Data-B/data/main_data/train_cat_new/turning_around/SGA2100494S0130IMG0003.jpg is same as /media/Data-B/data/main_data/val_cat_new/turning_around/SGA2100494S0130IMG0003.jpg\n",
      "/media/Data-B/data/main_data/train_cat_new/turning_around/SGA2100678S0964IMG0001.jpg is same as /media/Data-B/data/main_data/val_cat_new/turning_around/SGA2100678S0964IMG0001.jpg\n",
      "/media/Data-B/data/main_data/train_cat_new/turning_around/SGA2100365S0149IMG0004.jpg is same as /media/Data-B/data/main_data/val_cat_new/turning_around/SGA2100365S0149IMG0004.jpg\n",
      "/media/Data-B/data/main_data/train_cat_new/turning_around/SGA2100537S0176IMG0004.jpg is same as /media/Data-B/data/main_data/val_cat_new/turning_around/SGA2100537S0176IMG0004.jpg\n",
      "/media/Data-B/data/main_data/train_cat_new/turning_around/SGA2100356S0162IMG0005.jpg is same as /media/Data-B/data/main_data/val_cat_new/turning_around/SGA2100356S0162IMG0005.jpg\n",
      "/media/Data-B/data/main_data/train_cat_new/turning_around/SGA2101168S0166IMG0002.jpg is same as /media/Data-B/data/main_data/val_cat_new/turning_around/SGA2101168S0166IMG0002.jpg\n",
      "/media/Data-B/data/main_data/train_cat_new/turning_around/SGA2100303S0137IMG0003.jpg is same as /media/Data-B/data/main_data/val_cat_new/turning_around/SGA2100303S0137IMG0003.jpg\n"
     ]
    },
    {
     "name": "stderr",
     "output_type": "stream",
     "text": [
      " 35%|███▍      | 1196/3418 [00:01<00:02, 949.27it/s]"
     ]
    },
    {
     "name": "stdout",
     "output_type": "stream",
     "text": [
      "/media/Data-B/data/main_data/train_cat_new/turning_around/SGA2100756S2040IMG0002.jpg is same as /media/Data-B/data/main_data/val_cat_new/turning_around/SGA2100756S2040IMG0002.jpg\n",
      "/media/Data-B/data/main_data/train_cat_new/turning_around/SGA2100433S0137IMG0002.jpg is same as /media/Data-B/data/main_data/val_cat_new/turning_around/SGA2100433S0137IMG0002.jpg\n",
      "/media/Data-B/data/main_data/train_cat_new/turning_around/SGA2100595S0631IMG0002.jpg is same as /media/Data-B/data/main_data/val_cat_new/turning_around/SGA2100595S0631IMG0002.jpg\n",
      "/media/Data-B/data/main_data/train_cat_new/turning_around/SGA2100484S0280IMG0004.jpg is same as /media/Data-B/data/main_data/val_cat_new/turning_around/SGA2100484S0280IMG0004.jpg\n",
      "/media/Data-B/data/main_data/train_cat_new/turning_around/SGA2100365S0110IMG0005.jpg is same as /media/Data-B/data/main_data/val_cat_new/turning_around/SGA2100365S0110IMG0005.jpg\n",
      "/media/Data-B/data/main_data/train_cat_new/turning_around/SGA2100637S1072IMG0003.jpg is same as /media/Data-B/data/main_data/val_cat_new/turning_around/SGA2100637S1072IMG0003.jpg\n",
      "/media/Data-B/data/main_data/train_cat_new/turning_around/SGA2100841S1121IMG0002.jpg is same as /media/Data-B/data/main_data/val_cat_new/turning_around/SGA2100841S1121IMG0002.jpg\n",
      "/media/Data-B/data/main_data/train_cat_new/turning_around/SGA2101319S0208IMG0004.jpg is same as /media/Data-B/data/main_data/val_cat_new/turning_around/SGA2101319S0208IMG0004.jpg\n",
      "/media/Data-B/data/main_data/train_cat_new/turning_around/SGA2100679S1655IMG0003.jpg is same as /media/Data-B/data/main_data/val_cat_new/turning_around/SGA2100679S1655IMG0003.jpg\n",
      "/media/Data-B/data/main_data/train_cat_new/turning_around/SGA2100572S0125IMG0004.jpg is same as /media/Data-B/data/main_data/val_cat_new/turning_around/SGA2100572S0125IMG0004.jpg\n",
      "/media/Data-B/data/main_data/train_cat_new/turning_around/SGA2101315S0470IMG0003.jpg is same as /media/Data-B/data/main_data/val_cat_new/turning_around/SGA2101315S0470IMG0003.jpg\n",
      "/media/Data-B/data/main_data/train_cat_new/turning_around/SGA2100118S0102IMG0004.jpg is same as /media/Data-B/data/main_data/val_cat_new/turning_around/SGA2100118S0102IMG0004.jpg\n",
      "/media/Data-B/data/main_data/train_cat_new/turning_around/SGA2100084S0189IMG0004.jpg is same as /media/Data-B/data/main_data/val_cat_new/turning_around/SGA2100084S0189IMG0004.jpg\n",
      "/media/Data-B/data/main_data/train_cat_new/turning_around/SGA2100199S0346IMG0004.jpg is same as /media/Data-B/data/main_data/val_cat_new/turning_around/SGA2100199S0346IMG0004.jpg\n",
      "/media/Data-B/data/main_data/train_cat_new/turning_around/SGA2100931S0173IMG0001.jpg is same as /media/Data-B/data/main_data/val_cat_new/turning_around/SGA2100931S0173IMG0001.jpg\n",
      "/media/Data-B/data/main_data/train_cat_new/turning_around/SGA2100084S0169IMG0003.jpg is same as /media/Data-B/data/main_data/val_cat_new/turning_around/SGA2100084S0169IMG0003.jpg\n",
      "/media/Data-B/data/main_data/train_cat_new/turning_around/SGA2100213S0509IMG0002.jpg is same as /media/Data-B/data/main_data/val_cat_new/turning_around/SGA2100213S0509IMG0002.jpg\n",
      "/media/Data-B/data/main_data/train_cat_new/turning_around/SGA2101026S1418IMG0001.jpg is same as /media/Data-B/data/main_data/val_cat_new/turning_around/SGA2101026S1418IMG0001.jpg\n",
      "/media/Data-B/data/main_data/train_cat_new/turning_around/SGA2101026S0036IMG0002.jpg is same as /media/Data-B/data/main_data/val_cat_new/turning_around/SGA2101026S0036IMG0002.jpg\n",
      "/media/Data-B/data/main_data/train_cat_new/turning_around/SGA2101046S0185IMG0003.jpg is same as /media/Data-B/data/main_data/val_cat_new/turning_around/SGA2101046S0185IMG0003.jpg\n",
      "/media/Data-B/data/main_data/train_cat_new/turning_around/SGA2100268S0159IMG0004.jpg is same as /media/Data-B/data/main_data/val_cat_new/turning_around/SGA2100268S0159IMG0004.jpg\n",
      "/media/Data-B/data/main_data/train_cat_new/turning_around/SGA2100241S0128IMG0002.jpg is same as /media/Data-B/data/main_data/val_cat_new/turning_around/SGA2100241S0128IMG0002.jpg\n",
      "/media/Data-B/data/main_data/train_cat_new/turning_around/SGA2100581S0654IMG0002.jpg is same as /media/Data-B/data/main_data/val_cat_new/turning_around/SGA2100581S0654IMG0002.jpg\n",
      "/media/Data-B/data/main_data/train_cat_new/turning_around/SGA2101175S0059IMG0004.jpg is same as /media/Data-B/data/main_data/val_cat_new/turning_around/SGA2101175S0059IMG0004.jpg\n"
     ]
    },
    {
     "name": "stderr",
     "output_type": "stream",
     "text": [
      " 41%|████▏     | 1410/3418 [00:01<00:01, 1009.39it/s]"
     ]
    },
    {
     "name": "stdout",
     "output_type": "stream",
     "text": [
      "/media/Data-B/data/main_data/train_cat_new/turning_around/SGA2100186S0251IMG0001.jpg is same as /media/Data-B/data/main_data/val_cat_new/turning_around/SGA2100186S0251IMG0001.jpg\n",
      "/media/Data-B/data/main_data/train_cat_new/turning_around/SGA2100447S0180IMG0002.jpg is same as /media/Data-B/data/main_data/val_cat_new/turning_around/SGA2100447S0180IMG0002.jpg\n",
      "/media/Data-B/data/main_data/train_cat_new/turning_around/SGA2101145S0104IMG0005.jpg is same as /media/Data-B/data/main_data/val_cat_new/turning_around/SGA2101145S0104IMG0005.jpg\n",
      "/media/Data-B/data/main_data/train_cat_new/turning_around/SGA2101026S0755IMG0001.jpg is same as /media/Data-B/data/main_data/val_cat_new/turning_around/SGA2101026S0755IMG0001.jpg\n",
      "/media/Data-B/data/main_data/train_cat_new/turning_around/SGA2101026S0008IMG0001.jpg is same as /media/Data-B/data/main_data/val_cat_new/turning_around/SGA2101026S0008IMG0001.jpg\n",
      "/media/Data-B/data/main_data/train_cat_new/turning_around/SGA2100472S0358IMG0004.jpg is same as /media/Data-B/data/main_data/val_cat_new/turning_around/SGA2100472S0358IMG0004.jpg\n",
      "/media/Data-B/data/main_data/train_cat_new/turning_around/SGA2101134S0784IMG0003.jpg is same as /media/Data-B/data/main_data/val_cat_new/turning_around/SGA2101134S0784IMG0003.jpg\n",
      "/media/Data-B/data/main_data/train_cat_new/turning_around/SGA2100253S0192IMG0002.jpg is same as /media/Data-B/data/main_data/val_cat_new/turning_around/SGA2100253S0192IMG0002.jpg\n",
      "/media/Data-B/data/main_data/train_cat_new/turning_around/SGA2100333S0226IMG0003.jpg is same as /media/Data-B/data/main_data/val_cat_new/turning_around/SGA2100333S0226IMG0003.jpg\n",
      "/media/Data-B/data/main_data/train_cat_new/turning_around/SGA2100731S1138IMG0004.jpg is same as /media/Data-B/data/main_data/val_cat_new/turning_around/SGA2100731S1138IMG0004.jpg\n",
      "/media/Data-B/data/main_data/train_cat_new/turning_around/SGA2100084S0147IMG0003.jpg is same as /media/Data-B/data/main_data/val_cat_new/turning_around/SGA2100084S0147IMG0003.jpg\n",
      "/media/Data-B/data/main_data/train_cat_new/turning_around/SGA2100084S0155IMG0004.jpg is same as /media/Data-B/data/main_data/val_cat_new/turning_around/SGA2100084S0155IMG0004.jpg\n",
      "/media/Data-B/data/main_data/train_cat_new/turning_around/SGA2100520S0202IMG0003.jpg is same as /media/Data-B/data/main_data/val_cat_new/turning_around/SGA2100520S0202IMG0003.jpg\n",
      "/media/Data-B/data/main_data/train_cat_new/turning_around/SGA2101152S0278IMG0003.jpg is same as /media/Data-B/data/main_data/val_cat_new/turning_around/SGA2101152S0278IMG0003.jpg\n",
      "/media/Data-B/data/main_data/train_cat_new/turning_around/SGA2101163S0138IMG0004.jpg is same as /media/Data-B/data/main_data/val_cat_new/turning_around/SGA2101163S0138IMG0004.jpg\n",
      "/media/Data-B/data/main_data/train_cat_new/turning_around/SGA2100303S0136IMG0004.jpg is same as /media/Data-B/data/main_data/val_cat_new/turning_around/SGA2100303S0136IMG0004.jpg\n",
      "/media/Data-B/data/main_data/train_cat_new/turning_around/SGA2101180S0226IMG0005.jpg is same as /media/Data-B/data/main_data/val_cat_new/turning_around/SGA2101180S0226IMG0005.jpg\n",
      "/media/Data-B/data/main_data/train_cat_new/turning_around/SGA2100060S0146IMG0004.jpg is same as /media/Data-B/data/main_data/val_cat_new/turning_around/SGA2100060S0146IMG0004.jpg\n",
      "/media/Data-B/data/main_data/train_cat_new/turning_around/SGA2100458S0679IMG0003.jpg is same as /media/Data-B/data/main_data/val_cat_new/turning_around/SGA2100458S0679IMG0003.jpg\n"
     ]
    },
    {
     "name": "stderr",
     "output_type": "stream",
     "text": [
      " 48%|████▊     | 1625/3418 [00:01<00:01, 1042.16it/s]"
     ]
    },
    {
     "name": "stdout",
     "output_type": "stream",
     "text": [
      "/media/Data-B/data/main_data/train_cat_new/turning_around/SGA2100289S0178IMG0002.jpg is same as /media/Data-B/data/main_data/val_cat_new/turning_around/SGA2100289S0178IMG0002.jpg\n",
      "/media/Data-B/data/main_data/train_cat_new/turning_around/SGA2100214S0411IMG0002.jpg is same as /media/Data-B/data/main_data/val_cat_new/turning_around/SGA2100214S0411IMG0002.jpg\n",
      "/media/Data-B/data/main_data/train_cat_new/turning_around/SGA2100931S0924IMG0001.jpg is same as /media/Data-B/data/main_data/val_cat_new/turning_around/SGA2100931S0924IMG0001.jpg\n",
      "/media/Data-B/data/main_data/train_cat_new/turning_around/SGA2100223S0079IMG0003.jpg is same as /media/Data-B/data/main_data/val_cat_new/turning_around/SGA2100223S0079IMG0003.jpg\n",
      "/media/Data-B/data/main_data/train_cat_new/turning_around/SGA2100132S0592IMG0003.jpg is same as /media/Data-B/data/main_data/val_cat_new/turning_around/SGA2100132S0592IMG0003.jpg\n",
      "/media/Data-B/data/main_data/train_cat_new/turning_around/SGA2100394S0927IMG0003.jpg is same as /media/Data-B/data/main_data/val_cat_new/turning_around/SGA2100394S0927IMG0003.jpg\n",
      "/media/Data-B/data/main_data/train_cat_new/turning_around/SGA2100380S0229IMG0003.jpg is same as /media/Data-B/data/main_data/val_cat_new/turning_around/SGA2100380S0229IMG0003.jpg\n",
      "/media/Data-B/data/main_data/train_cat_new/turning_around/SGA2100213S0508IMG0001.jpg is same as /media/Data-B/data/main_data/val_cat_new/turning_around/SGA2100213S0508IMG0001.jpg\n",
      "/media/Data-B/data/main_data/train_cat_new/turning_around/SGA2100036S0127IMG0002.jpg is same as /media/Data-B/data/main_data/val_cat_new/turning_around/SGA2100036S0127IMG0002.jpg\n",
      "/media/Data-B/data/main_data/train_cat_new/turning_around/SGA2100091S0176IMG0005.jpg is same as /media/Data-B/data/main_data/val_cat_new/turning_around/SGA2100091S0176IMG0005.jpg\n",
      "/media/Data-B/data/main_data/train_cat_new/turning_around/SGA2100591S0569IMG0002.jpg is same as /media/Data-B/data/main_data/val_cat_new/turning_around/SGA2100591S0569IMG0002.jpg\n",
      "/media/Data-B/data/main_data/train_cat_new/turning_around/SGA2100667S0181IMG0002.jpg is same as /media/Data-B/data/main_data/val_cat_new/turning_around/SGA2100667S0181IMG0002.jpg\n",
      "/media/Data-B/data/main_data/train_cat_new/turning_around/SGA2100798S0690IMG0003.jpg is same as /media/Data-B/data/main_data/val_cat_new/turning_around/SGA2100798S0690IMG0003.jpg\n",
      "/media/Data-B/data/main_data/train_cat_new/turning_around/SGA2100581S0601IMG0003.jpg is same as /media/Data-B/data/main_data/val_cat_new/turning_around/SGA2100581S0601IMG0003.jpg\n",
      "/media/Data-B/data/main_data/train_cat_new/turning_around/SGA2100186S0254IMG0003.jpg is same as /media/Data-B/data/main_data/val_cat_new/turning_around/SGA2100186S0254IMG0003.jpg\n",
      "/media/Data-B/data/main_data/train_cat_new/turning_around/SGA2100013S0152IMG0003.jpg is same as /media/Data-B/data/main_data/val_cat_new/turning_around/SGA2100013S0152IMG0003.jpg\n"
     ]
    },
    {
     "name": "stderr",
     "output_type": "stream",
     "text": [
      " 54%|█████▎    | 1837/3418 [00:02<00:01, 1043.09it/s]"
     ]
    },
    {
     "name": "stdout",
     "output_type": "stream",
     "text": [
      "/media/Data-B/data/main_data/train_cat_new/turning_around/SGA2100670S0597IMG0004.jpg is same as /media/Data-B/data/main_data/val_cat_new/turning_around/SGA2100670S0597IMG0004.jpg\n",
      "/media/Data-B/data/main_data/train_cat_new/turning_around/SGA2100744S0855IMG0003.jpg is same as /media/Data-B/data/main_data/val_cat_new/turning_around/SGA2100744S0855IMG0003.jpg\n",
      "/media/Data-B/data/main_data/train_cat_new/turning_around/SGA2100653S0250IMG0002.jpg is same as /media/Data-B/data/main_data/val_cat_new/turning_around/SGA2100653S0250IMG0002.jpg\n",
      "/media/Data-B/data/main_data/train_cat_new/turning_around/SGA2100374S0039IMG0003.jpg is same as /media/Data-B/data/main_data/val_cat_new/turning_around/SGA2100374S0039IMG0003.jpg\n",
      "/media/Data-B/data/main_data/train_cat_new/turning_around/SGA2100263S0157IMG0005.jpg is same as /media/Data-B/data/main_data/val_cat_new/turning_around/SGA2100263S0157IMG0005.jpg\n",
      "/media/Data-B/data/main_data/train_cat_new/turning_around/SGA2100086S0302IMG0005.jpg is same as /media/Data-B/data/main_data/val_cat_new/turning_around/SGA2100086S0302IMG0005.jpg\n",
      "/media/Data-B/data/main_data/train_cat_new/turning_around/SGA2100637S0957IMG0002.jpg is same as /media/Data-B/data/main_data/val_cat_new/turning_around/SGA2100637S0957IMG0002.jpg\n",
      "/media/Data-B/data/main_data/train_cat_new/turning_around/SGA2100520S0204IMG0002.jpg is same as /media/Data-B/data/main_data/val_cat_new/turning_around/SGA2100520S0204IMG0002.jpg\n",
      "/media/Data-B/data/main_data/train_cat_new/turning_around/SGA2101196S0348IMG0002.jpg is same as /media/Data-B/data/main_data/val_cat_new/turning_around/SGA2101196S0348IMG0002.jpg\n",
      "/media/Data-B/data/main_data/train_cat_new/turning_around/SGA2101026S0032IMG0002.jpg is same as /media/Data-B/data/main_data/val_cat_new/turning_around/SGA2101026S0032IMG0002.jpg\n",
      "/media/Data-B/data/main_data/train_cat_new/turning_around/SGA2100744S1471IMG0003.jpg is same as /media/Data-B/data/main_data/val_cat_new/turning_around/SGA2100744S1471IMG0003.jpg\n",
      "/media/Data-B/data/main_data/train_cat_new/turning_around/SGA2101046S0092IMG0001.jpg is same as /media/Data-B/data/main_data/val_cat_new/turning_around/SGA2101046S0092IMG0001.jpg\n",
      "/media/Data-B/data/main_data/train_cat_new/turning_around/SGA2101201S0190IMG0003.jpg is same as /media/Data-B/data/main_data/val_cat_new/turning_around/SGA2101201S0190IMG0003.jpg\n",
      "/media/Data-B/data/main_data/train_cat_new/turning_around/SGA2100798S0700IMG0003.jpg is same as /media/Data-B/data/main_data/val_cat_new/turning_around/SGA2100798S0700IMG0003.jpg\n",
      "/media/Data-B/data/main_data/train_cat_new/turning_around/SGA2101026S1775IMG0002.jpg is same as /media/Data-B/data/main_data/val_cat_new/turning_around/SGA2101026S1775IMG0002.jpg\n",
      "/media/Data-B/data/main_data/train_cat_new/turning_around/SGA2100679S1382IMG0002.jpg is same as /media/Data-B/data/main_data/val_cat_new/turning_around/SGA2100679S1382IMG0002.jpg\n",
      "/media/Data-B/data/main_data/train_cat_new/turning_around/SGA2100691S0061IMG0003.jpg is same as /media/Data-B/data/main_data/val_cat_new/turning_around/SGA2100691S0061IMG0003.jpg\n",
      "/media/Data-B/data/main_data/train_cat_new/turning_around/SGA2100830S0837IMG0004.jpg is same as /media/Data-B/data/main_data/val_cat_new/turning_around/SGA2100830S0837IMG0004.jpg\n",
      "/media/Data-B/data/main_data/train_cat_new/turning_around/SGA2101026S1694IMG0001.jpg is same as /media/Data-B/data/main_data/val_cat_new/turning_around/SGA2101026S1694IMG0001.jpg\n",
      "/media/Data-B/data/main_data/train_cat_new/turning_around/SGA2100663S1031IMG0004.jpg is same as /media/Data-B/data/main_data/val_cat_new/turning_around/SGA2100663S1031IMG0004.jpg\n",
      "/media/Data-B/data/main_data/train_cat_new/turning_around/SGA2101026S0524IMG0001.jpg is same as /media/Data-B/data/main_data/val_cat_new/turning_around/SGA2101026S0524IMG0001.jpg\n",
      "/media/Data-B/data/main_data/train_cat_new/turning_around/SGA2100572S0242IMG0004.jpg is same as /media/Data-B/data/main_data/val_cat_new/turning_around/SGA2100572S0242IMG0004.jpg\n",
      "/media/Data-B/data/main_data/train_cat_new/turning_around/SGA2100931S0737IMG0002.jpg is same as /media/Data-B/data/main_data/val_cat_new/turning_around/SGA2100931S0737IMG0002.jpg\n",
      "/media/Data-B/data/main_data/train_cat_new/turning_around/SGA2100592S0508IMG0003.jpg is same as /media/Data-B/data/main_data/val_cat_new/turning_around/SGA2100592S0508IMG0003.jpg\n",
      "/media/Data-B/data/main_data/train_cat_new/turning_around/SGA2100931S0334IMG0001.jpg is same as /media/Data-B/data/main_data/val_cat_new/turning_around/SGA2100931S0334IMG0001.jpg\n",
      "/media/Data-B/data/main_data/train_cat_new/turning_around/SGA2101046S0455IMG0002.jpg is same as /media/Data-B/data/main_data/val_cat_new/turning_around/SGA2101046S0455IMG0002.jpg\n"
     ]
    },
    {
     "name": "stderr",
     "output_type": "stream",
     "text": [
      " 60%|█████▉    | 2047/3418 [00:02<00:01, 1029.17it/s]"
     ]
    },
    {
     "name": "stdout",
     "output_type": "stream",
     "text": [
      "/media/Data-B/data/main_data/train_cat_new/turning_around/SGA2100830S0945IMG0004.jpg is same as /media/Data-B/data/main_data/val_cat_new/turning_around/SGA2100830S0945IMG0004.jpg\n",
      "/media/Data-B/data/main_data/train_cat_new/turning_around/SGA2100931S0446IMG0001.jpg is same as /media/Data-B/data/main_data/val_cat_new/turning_around/SGA2100931S0446IMG0001.jpg\n",
      "/media/Data-B/data/main_data/train_cat_new/turning_around/SGA2100593S0798IMG0004.jpg is same as /media/Data-B/data/main_data/val_cat_new/turning_around/SGA2100593S0798IMG0004.jpg\n",
      "/media/Data-B/data/main_data/train_cat_new/turning_around/SGA2101026S1025IMG0002.jpg is same as /media/Data-B/data/main_data/val_cat_new/turning_around/SGA2101026S1025IMG0002.jpg\n",
      "/media/Data-B/data/main_data/train_cat_new/turning_around/SGA2101026S0506IMG0002.jpg is same as /media/Data-B/data/main_data/val_cat_new/turning_around/SGA2101026S0506IMG0002.jpg\n",
      "/media/Data-B/data/main_data/train_cat_new/turning_around/SGA2101026S0841IMG0002.jpg is same as /media/Data-B/data/main_data/val_cat_new/turning_around/SGA2101026S0841IMG0002.jpg\n",
      "/media/Data-B/data/main_data/train_cat_new/turning_around/SGA2101026S1097IMG0002.jpg is same as /media/Data-B/data/main_data/val_cat_new/turning_around/SGA2101026S1097IMG0002.jpg\n",
      "/media/Data-B/data/main_data/train_cat_new/turning_around/SGA2100766S0319IMG0004.jpg is same as /media/Data-B/data/main_data/val_cat_new/turning_around/SGA2100766S0319IMG0004.jpg\n",
      "/media/Data-B/data/main_data/train_cat_new/turning_around/SGA2101175S0192IMG0003.jpg is same as /media/Data-B/data/main_data/val_cat_new/turning_around/SGA2101175S0192IMG0003.jpg\n",
      "/media/Data-B/data/main_data/train_cat_new/turning_around/SGA2101026S0827IMG0001.jpg is same as /media/Data-B/data/main_data/val_cat_new/turning_around/SGA2101026S0827IMG0001.jpg\n",
      "/media/Data-B/data/main_data/train_cat_new/turning_around/SGA2101046S0077IMG0001.jpg is same as /media/Data-B/data/main_data/val_cat_new/turning_around/SGA2101046S0077IMG0001.jpg\n",
      "/media/Data-B/data/main_data/train_cat_new/turning_around/SGA2101026S1362IMG0002.jpg is same as /media/Data-B/data/main_data/val_cat_new/turning_around/SGA2101026S1362IMG0002.jpg\n",
      "/media/Data-B/data/main_data/train_cat_new/turning_around/SGA2100931S0938IMG0002.jpg is same as /media/Data-B/data/main_data/val_cat_new/turning_around/SGA2100931S0938IMG0002.jpg\n",
      "/media/Data-B/data/main_data/train_cat_new/turning_around/SGA2101193S0327IMG0004.jpg is same as /media/Data-B/data/main_data/val_cat_new/turning_around/SGA2101193S0327IMG0004.jpg\n",
      "/media/Data-B/data/main_data/train_cat_new/turning_around/SGA2100598S0650IMG0002.jpg is same as /media/Data-B/data/main_data/val_cat_new/turning_around/SGA2100598S0650IMG0002.jpg\n",
      "/media/Data-B/data/main_data/train_cat_new/turning_around/SGA2100499S0134IMG0002.jpg is same as /media/Data-B/data/main_data/val_cat_new/turning_around/SGA2100499S0134IMG0002.jpg\n",
      "/media/Data-B/data/main_data/train_cat_new/turning_around/SGA2101201S0377IMG0004.jpg is same as /media/Data-B/data/main_data/val_cat_new/turning_around/SGA2101201S0377IMG0004.jpg\n",
      "/media/Data-B/data/main_data/train_cat_new/turning_around/SGA2100786S1307IMG0003.jpg is same as /media/Data-B/data/main_data/val_cat_new/turning_around/SGA2100786S1307IMG0003.jpg\n",
      "/media/Data-B/data/main_data/train_cat_new/turning_around/SGA2101046S0340IMG0001.jpg is same as /media/Data-B/data/main_data/val_cat_new/turning_around/SGA2101046S0340IMG0001.jpg\n",
      "/media/Data-B/data/main_data/train_cat_new/turning_around/SGA2100614S2667IMG0003.jpg is same as /media/Data-B/data/main_data/val_cat_new/turning_around/SGA2100614S2667IMG0003.jpg\n",
      "/media/Data-B/data/main_data/train_cat_new/turning_around/SGA2100717S0868IMG0003.jpg is same as /media/Data-B/data/main_data/val_cat_new/turning_around/SGA2100717S0868IMG0003.jpg\n"
     ]
    },
    {
     "name": "stderr",
     "output_type": "stream",
     "text": [
      " 66%|██████▋   | 2266/3418 [00:02<00:01, 1058.26it/s]"
     ]
    },
    {
     "name": "stdout",
     "output_type": "stream",
     "text": [
      "/media/Data-B/data/main_data/train_cat_new/turning_around/SGA2100447S0160IMG0001.jpg is same as /media/Data-B/data/main_data/val_cat_new/turning_around/SGA2100447S0160IMG0001.jpg\n",
      "/media/Data-B/data/main_data/train_cat_new/turning_around/SGA2100679S1737IMG0003.jpg is same as /media/Data-B/data/main_data/val_cat_new/turning_around/SGA2100679S1737IMG0003.jpg\n",
      "/media/Data-B/data/main_data/train_cat_new/turning_around/SGA2100830S1262IMG0003.jpg is same as /media/Data-B/data/main_data/val_cat_new/turning_around/SGA2100830S1262IMG0003.jpg\n",
      "/media/Data-B/data/main_data/train_cat_new/turning_around/SGA2100835S0163IMG0002.jpg is same as /media/Data-B/data/main_data/val_cat_new/turning_around/SGA2100835S0163IMG0002.jpg\n",
      "/media/Data-B/data/main_data/train_cat_new/turning_around/SGA2100594S0549IMG0002.jpg is same as /media/Data-B/data/main_data/val_cat_new/turning_around/SGA2100594S0549IMG0002.jpg\n",
      "/media/Data-B/data/main_data/train_cat_new/turning_around/SGA2100408S0256IMG0005.jpg is same as /media/Data-B/data/main_data/val_cat_new/turning_around/SGA2100408S0256IMG0005.jpg\n",
      "/media/Data-B/data/main_data/train_cat_new/turning_around/SGA2100717S0504IMG0003.jpg is same as /media/Data-B/data/main_data/val_cat_new/turning_around/SGA2100717S0504IMG0003.jpg\n",
      "/media/Data-B/data/main_data/train_cat_new/turning_around/SGA2101193S0326IMG0003.jpg is same as /media/Data-B/data/main_data/val_cat_new/turning_around/SGA2101193S0326IMG0003.jpg\n",
      "/media/Data-B/data/main_data/train_cat_new/turning_around/SGA2101026S1799IMG0001.jpg is same as /media/Data-B/data/main_data/val_cat_new/turning_around/SGA2101026S1799IMG0001.jpg\n",
      "/media/Data-B/data/main_data/train_cat_new/turning_around/SGA2100859S0148IMG0003.jpg is same as /media/Data-B/data/main_data/val_cat_new/turning_around/SGA2100859S0148IMG0003.jpg\n",
      "/media/Data-B/data/main_data/train_cat_new/turning_around/SGA2101175S0200IMG0002.jpg is same as /media/Data-B/data/main_data/val_cat_new/turning_around/SGA2101175S0200IMG0002.jpg\n",
      "/media/Data-B/data/main_data/train_cat_new/turning_around/SGA2100678S1073IMG0003.jpg is same as /media/Data-B/data/main_data/val_cat_new/turning_around/SGA2100678S1073IMG0003.jpg\n",
      "/media/Data-B/data/main_data/train_cat_new/turning_around/SGA2100520S0202IMG0002.jpg is same as /media/Data-B/data/main_data/val_cat_new/turning_around/SGA2100520S0202IMG0002.jpg\n",
      "/media/Data-B/data/main_data/train_cat_new/turning_around/SGA2100672S0362IMG0002.jpg is same as /media/Data-B/data/main_data/val_cat_new/turning_around/SGA2100672S0362IMG0002.jpg\n",
      "/media/Data-B/data/main_data/train_cat_new/turning_around/SGA2100028S0185IMG0002.jpg is same as /media/Data-B/data/main_data/val_cat_new/turning_around/SGA2100028S0185IMG0002.jpg\n",
      "/media/Data-B/data/main_data/train_cat_new/turning_around/SGA2100123S0281IMG0005.jpg is same as /media/Data-B/data/main_data/val_cat_new/turning_around/SGA2100123S0281IMG0005.jpg\n",
      "/media/Data-B/data/main_data/train_cat_new/turning_around/SGA2100036S0172IMG0002.jpg is same as /media/Data-B/data/main_data/val_cat_new/turning_around/SGA2100036S0172IMG0002.jpg\n"
     ]
    },
    {
     "name": "stderr",
     "output_type": "stream",
     "text": [
      " 76%|███████▋  | 2613/3418 [00:02<00:00, 1121.81it/s]"
     ]
    },
    {
     "name": "stdout",
     "output_type": "stream",
     "text": [
      "/media/Data-B/data/main_data/train_cat_new/turning_around/SGA2100391S0092IMG0002.jpg is same as /media/Data-B/data/main_data/val_cat_new/turning_around/SGA2100391S0092IMG0002.jpg\n",
      "/media/Data-B/data/main_data/train_cat_new/turning_around/SGA2100537S0024IMG0004.jpg is same as /media/Data-B/data/main_data/val_cat_new/turning_around/SGA2100537S0024IMG0004.jpg\n",
      "/media/Data-B/data/main_data/train_cat_new/turning_around/SGA2101134S0479IMG0003.jpg is same as /media/Data-B/data/main_data/val_cat_new/turning_around/SGA2101134S0479IMG0003.jpg\n",
      "/media/Data-B/data/main_data/train_cat_new/turning_around/SGA2101206S0191IMG0001.jpg is same as /media/Data-B/data/main_data/val_cat_new/turning_around/SGA2101206S0191IMG0001.jpg\n",
      "/media/Data-B/data/main_data/train_cat_new/turning_around/SGA2100599S0683IMG0003.jpg is same as /media/Data-B/data/main_data/val_cat_new/turning_around/SGA2100599S0683IMG0003.jpg\n",
      "/media/Data-B/data/main_data/train_cat_new/turning_around/SGA2101177S0103IMG0003.jpg is same as /media/Data-B/data/main_data/val_cat_new/turning_around/SGA2101177S0103IMG0003.jpg\n",
      "/media/Data-B/data/main_data/train_cat_new/turning_around/SGA2100725S0002IMG0003.jpg is same as /media/Data-B/data/main_data/val_cat_new/turning_around/SGA2100725S0002IMG0003.jpg\n",
      "/media/Data-B/data/main_data/train_cat_new/turning_around/SGA2101026S0921IMG0001.jpg is same as /media/Data-B/data/main_data/val_cat_new/turning_around/SGA2101026S0921IMG0001.jpg\n",
      "/media/Data-B/data/main_data/train_cat_new/turning_around/SGA2101206S0183IMG0003.jpg is same as /media/Data-B/data/main_data/val_cat_new/turning_around/SGA2101206S0183IMG0003.jpg\n",
      "/media/Data-B/data/main_data/train_cat_new/turning_around/SGA2100717S0534IMG0003.jpg is same as /media/Data-B/data/main_data/val_cat_new/turning_around/SGA2100717S0534IMG0003.jpg\n",
      "/media/Data-B/data/main_data/train_cat_new/turning_around/SGA2100116S0194IMG0004.jpg is same as /media/Data-B/data/main_data/val_cat_new/turning_around/SGA2100116S0194IMG0004.jpg\n",
      "/media/Data-B/data/main_data/train_cat_new/turning_around/SGA2100542S0234IMG0004.jpg is same as /media/Data-B/data/main_data/val_cat_new/turning_around/SGA2100542S0234IMG0004.jpg\n",
      "/media/Data-B/data/main_data/train_cat_new/turning_around/SGA2101026S1641IMG0001.jpg is same as /media/Data-B/data/main_data/val_cat_new/turning_around/SGA2101026S1641IMG0001.jpg\n",
      "/media/Data-B/data/main_data/train_cat_new/turning_around/SGA2100747S0217IMG0003.jpg is same as /media/Data-B/data/main_data/val_cat_new/turning_around/SGA2100747S0217IMG0003.jpg\n",
      "/media/Data-B/data/main_data/train_cat_new/turning_around/SGA2100157S0339IMG0003.jpg is same as /media/Data-B/data/main_data/val_cat_new/turning_around/SGA2100157S0339IMG0003.jpg\n",
      "/media/Data-B/data/main_data/train_cat_new/turning_around/SGA2100864S0256IMG0004.jpg is same as /media/Data-B/data/main_data/val_cat_new/turning_around/SGA2100864S0256IMG0004.jpg\n",
      "/media/Data-B/data/main_data/train_cat_new/turning_around/SGA2100040S0149IMG0003.jpg is same as /media/Data-B/data/main_data/val_cat_new/turning_around/SGA2100040S0149IMG0003.jpg\n",
      "/media/Data-B/data/main_data/train_cat_new/turning_around/SGA2100819S0294IMG0003.jpg is same as /media/Data-B/data/main_data/val_cat_new/turning_around/SGA2100819S0294IMG0003.jpg\n",
      "/media/Data-B/data/main_data/train_cat_new/turning_around/SGA2100281S0282IMG0002.jpg is same as /media/Data-B/data/main_data/val_cat_new/turning_around/SGA2100281S0282IMG0002.jpg\n",
      "/media/Data-B/data/main_data/train_cat_new/turning_around/SGA2100589S0205IMG0005.jpg is same as /media/Data-B/data/main_data/val_cat_new/turning_around/SGA2100589S0205IMG0005.jpg\n",
      "/media/Data-B/data/main_data/train_cat_new/turning_around/SGA2100508S0073IMG0001.jpg is same as /media/Data-B/data/main_data/val_cat_new/turning_around/SGA2100508S0073IMG0001.jpg\n",
      "/media/Data-B/data/main_data/train_cat_new/turning_around/SGA2100837S0509IMG0004.jpg is same as /media/Data-B/data/main_data/val_cat_new/turning_around/SGA2100837S0509IMG0004.jpg\n"
     ]
    },
    {
     "name": "stderr",
     "output_type": "stream",
     "text": [
      " 83%|████████▎ | 2839/3418 [00:02<00:00, 1110.33it/s]"
     ]
    },
    {
     "name": "stdout",
     "output_type": "stream",
     "text": [
      "/media/Data-B/data/main_data/train_cat_new/turning_around/SGA2100804S0142IMG0002.jpg is same as /media/Data-B/data/main_data/val_cat_new/turning_around/SGA2100804S0142IMG0002.jpg\n",
      "/media/Data-B/data/main_data/train_cat_new/turning_around/SGA2101026S0499IMG0001.jpg is same as /media/Data-B/data/main_data/val_cat_new/turning_around/SGA2101026S0499IMG0001.jpg\n",
      "/media/Data-B/data/main_data/train_cat_new/turning_around/SGA2100839S0171IMG0004.jpg is same as /media/Data-B/data/main_data/val_cat_new/turning_around/SGA2100839S0171IMG0004.jpg\n",
      "/media/Data-B/data/main_data/train_cat_new/turning_around/SGA2100663S1207IMG0002.jpg is same as /media/Data-B/data/main_data/val_cat_new/turning_around/SGA2100663S1207IMG0002.jpg\n",
      "/media/Data-B/data/main_data/train_cat_new/turning_around/SGA2100747S0461IMG0003.jpg is same as /media/Data-B/data/main_data/val_cat_new/turning_around/SGA2100747S0461IMG0003.jpg\n",
      "/media/Data-B/data/main_data/train_cat_new/turning_around/SGA2100756S2088IMG0003.jpg is same as /media/Data-B/data/main_data/val_cat_new/turning_around/SGA2100756S2088IMG0003.jpg\n",
      "/media/Data-B/data/main_data/train_cat_new/turning_around/SGA2100679S1723IMG0002.jpg is same as /media/Data-B/data/main_data/val_cat_new/turning_around/SGA2100679S1723IMG0002.jpg\n",
      "/media/Data-B/data/main_data/train_cat_new/turning_around/SGA2100841S1106IMG0003.jpg is same as /media/Data-B/data/main_data/val_cat_new/turning_around/SGA2100841S1106IMG0003.jpg\n",
      "/media/Data-B/data/main_data/train_cat_new/turning_around/SGA2101193S0144IMG0005.jpg is same as /media/Data-B/data/main_data/val_cat_new/turning_around/SGA2101193S0144IMG0005.jpg\n",
      "/media/Data-B/data/main_data/train_cat_new/turning_around/SGA2100083S0011IMG0005.jpg is same as /media/Data-B/data/main_data/val_cat_new/turning_around/SGA2100083S0011IMG0005.jpg\n",
      "/media/Data-B/data/main_data/train_cat_new/turning_around/SGA2100061S0145IMG0003.jpg is same as /media/Data-B/data/main_data/val_cat_new/turning_around/SGA2100061S0145IMG0003.jpg\n",
      "/media/Data-B/data/main_data/train_cat_new/turning_around/SGA2101046S0382IMG0002.jpg is same as /media/Data-B/data/main_data/val_cat_new/turning_around/SGA2101046S0382IMG0002.jpg\n",
      "/media/Data-B/data/main_data/train_cat_new/turning_around/SGA2101046S0527IMG0003.jpg is same as /media/Data-B/data/main_data/val_cat_new/turning_around/SGA2101046S0527IMG0003.jpg\n",
      "/media/Data-B/data/main_data/train_cat_new/turning_around/SGA2101139S0369IMG0003.jpg is same as /media/Data-B/data/main_data/val_cat_new/turning_around/SGA2101139S0369IMG0003.jpg\n",
      "/media/Data-B/data/main_data/train_cat_new/turning_around/SGA2100853S0050IMG0003.jpg is same as /media/Data-B/data/main_data/val_cat_new/turning_around/SGA2100853S0050IMG0003.jpg\n",
      "/media/Data-B/data/main_data/train_cat_new/turning_around/SGA2100826S0775IMG0002.jpg is same as /media/Data-B/data/main_data/val_cat_new/turning_around/SGA2100826S0775IMG0002.jpg\n",
      "/media/Data-B/data/main_data/train_cat_new/turning_around/SGA2101046S0380IMG0001.jpg is same as /media/Data-B/data/main_data/val_cat_new/turning_around/SGA2101046S0380IMG0001.jpg\n",
      "/media/Data-B/data/main_data/train_cat_new/turning_around/SGA2100064S0171IMG0004.jpg is same as /media/Data-B/data/main_data/val_cat_new/turning_around/SGA2100064S0171IMG0004.jpg\n",
      "/media/Data-B/data/main_data/train_cat_new/turning_around/SGA2101046S0281IMG0002.jpg is same as /media/Data-B/data/main_data/val_cat_new/turning_around/SGA2101046S0281IMG0002.jpg\n",
      "/media/Data-B/data/main_data/train_cat_new/turning_around/SGA2101212S0085IMG0003.jpg is same as /media/Data-B/data/main_data/val_cat_new/turning_around/SGA2101212S0085IMG0003.jpg\n"
     ]
    },
    {
     "name": "stderr",
     "output_type": "stream",
     "text": [
      " 90%|████████▉ | 3062/3418 [00:03<00:00, 1097.91it/s]"
     ]
    },
    {
     "name": "stdout",
     "output_type": "stream",
     "text": [
      "/media/Data-B/data/main_data/train_cat_new/turning_around/SGA2100485S0026IMG0002.jpg is same as /media/Data-B/data/main_data/val_cat_new/turning_around/SGA2100485S0026IMG0002.jpg\n",
      "/media/Data-B/data/main_data/train_cat_new/turning_around/SGA2100080S0030IMG0004.jpg is same as /media/Data-B/data/main_data/val_cat_new/turning_around/SGA2100080S0030IMG0004.jpg\n",
      "/media/Data-B/data/main_data/train_cat_new/turning_around/SGA2101026S1817IMG0001.jpg is same as /media/Data-B/data/main_data/val_cat_new/turning_around/SGA2101026S1817IMG0001.jpg\n",
      "/media/Data-B/data/main_data/train_cat_new/turning_around/SGA2100281S0246IMG0003.jpg is same as /media/Data-B/data/main_data/val_cat_new/turning_around/SGA2100281S0246IMG0003.jpg\n",
      "/media/Data-B/data/main_data/train_cat_new/turning_around/SGA2100086S0053IMG0005.jpg is same as /media/Data-B/data/main_data/val_cat_new/turning_around/SGA2100086S0053IMG0005.jpg\n",
      "/media/Data-B/data/main_data/train_cat_new/turning_around/SGA2101026S0694IMG0001.jpg is same as /media/Data-B/data/main_data/val_cat_new/turning_around/SGA2101026S0694IMG0001.jpg\n",
      "/media/Data-B/data/main_data/train_cat_new/turning_around/SGA2100159S0353IMG0003.jpg is same as /media/Data-B/data/main_data/val_cat_new/turning_around/SGA2100159S0353IMG0003.jpg\n",
      "/media/Data-B/data/main_data/train_cat_new/turning_around/SGA2100013S0136IMG0003.jpg is same as /media/Data-B/data/main_data/val_cat_new/turning_around/SGA2100013S0136IMG0003.jpg\n",
      "/media/Data-B/data/main_data/train_cat_new/turning_around/SGA2100444S0026IMG0004.jpg is same as /media/Data-B/data/main_data/val_cat_new/turning_around/SGA2100444S0026IMG0004.jpg\n",
      "/media/Data-B/data/main_data/train_cat_new/turning_around/SGA2101046S0918IMG0003.jpg is same as /media/Data-B/data/main_data/val_cat_new/turning_around/SGA2101046S0918IMG0003.jpg\n",
      "/media/Data-B/data/main_data/train_cat_new/turning_around/SGA2100572S0163IMG0001.jpg is same as /media/Data-B/data/main_data/val_cat_new/turning_around/SGA2100572S0163IMG0001.jpg\n",
      "/media/Data-B/data/main_data/train_cat_new/turning_around/SGA2100559S0082IMG0002.jpg is same as /media/Data-B/data/main_data/val_cat_new/turning_around/SGA2100559S0082IMG0002.jpg\n",
      "/media/Data-B/data/main_data/train_cat_new/turning_around/SGA2100458S0682IMG0004.jpg is same as /media/Data-B/data/main_data/val_cat_new/turning_around/SGA2100458S0682IMG0004.jpg\n",
      "/media/Data-B/data/main_data/train_cat_new/turning_around/SGA2100456S0054IMG0003.jpg is same as /media/Data-B/data/main_data/val_cat_new/turning_around/SGA2100456S0054IMG0003.jpg\n",
      "/media/Data-B/data/main_data/train_cat_new/turning_around/SGA2100223S0073IMG0004.jpg is same as /media/Data-B/data/main_data/val_cat_new/turning_around/SGA2100223S0073IMG0004.jpg\n",
      "/media/Data-B/data/main_data/train_cat_new/turning_around/SGA2100157S0331IMG0005.jpg is same as /media/Data-B/data/main_data/val_cat_new/turning_around/SGA2100157S0331IMG0005.jpg\n",
      "/media/Data-B/data/main_data/train_cat_new/turning_around/SGA2100157S0377IMG0003.jpg is same as /media/Data-B/data/main_data/val_cat_new/turning_around/SGA2100157S0377IMG0003.jpg\n"
     ]
    },
    {
     "name": "stderr",
     "output_type": "stream",
     "text": [
      " 96%|█████████▌| 3281/3418 [00:03<00:00, 1075.17it/s]"
     ]
    },
    {
     "name": "stdout",
     "output_type": "stream",
     "text": [
      "/media/Data-B/data/main_data/train_cat_new/turning_around/SGA2100426S0115IMG0004.jpg is same as /media/Data-B/data/main_data/val_cat_new/turning_around/SGA2100426S0115IMG0004.jpg\n",
      "/media/Data-B/data/main_data/train_cat_new/turning_around/SGA2101026S1834IMG0001.jpg is same as /media/Data-B/data/main_data/val_cat_new/turning_around/SGA2101026S1834IMG0001.jpg\n",
      "/media/Data-B/data/main_data/train_cat_new/turning_around/SGA2100484S0276IMG0004.jpg is same as /media/Data-B/data/main_data/val_cat_new/turning_around/SGA2100484S0276IMG0004.jpg\n",
      "/media/Data-B/data/main_data/train_cat_new/turning_around/SGA2101175S0134IMG0003.jpg is same as /media/Data-B/data/main_data/val_cat_new/turning_around/SGA2101175S0134IMG0003.jpg\n",
      "/media/Data-B/data/main_data/train_cat_new/turning_around/SGA2100279S0334IMG0002.jpg is same as /media/Data-B/data/main_data/val_cat_new/turning_around/SGA2100279S0334IMG0002.jpg\n",
      "/media/Data-B/data/main_data/train_cat_new/turning_around/SGA2100279S0346IMG0002.jpg is same as /media/Data-B/data/main_data/val_cat_new/turning_around/SGA2100279S0346IMG0002.jpg\n",
      "/media/Data-B/data/main_data/train_cat_new/turning_around/SGA2100408S0156IMG0002.jpg is same as /media/Data-B/data/main_data/val_cat_new/turning_around/SGA2100408S0156IMG0002.jpg\n",
      "/media/Data-B/data/main_data/train_cat_new/turning_around/SGA2100637S1162IMG0004.jpg is same as /media/Data-B/data/main_data/val_cat_new/turning_around/SGA2100637S1162IMG0004.jpg\n",
      "/media/Data-B/data/main_data/train_cat_new/turning_around/SGA2100630S0043IMG0005.jpg is same as /media/Data-B/data/main_data/val_cat_new/turning_around/SGA2100630S0043IMG0005.jpg\n",
      "/media/Data-B/data/main_data/train_cat_new/turning_around/SGA2100769S0245IMG0005.jpg is same as /media/Data-B/data/main_data/val_cat_new/turning_around/SGA2100769S0245IMG0005.jpg\n",
      "/media/Data-B/data/main_data/train_cat_new/turning_around/SGA2100484S0282IMG0004.jpg is same as /media/Data-B/data/main_data/val_cat_new/turning_around/SGA2100484S0282IMG0004.jpg\n",
      "/media/Data-B/data/main_data/train_cat_new/turning_around/SGA2100096S0294IMG0002.jpg is same as /media/Data-B/data/main_data/val_cat_new/turning_around/SGA2100096S0294IMG0002.jpg\n",
      "/media/Data-B/data/main_data/train_cat_new/turning_around/SGA2100655S0126IMG0002.jpg is same as /media/Data-B/data/main_data/val_cat_new/turning_around/SGA2100655S0126IMG0002.jpg\n",
      "/media/Data-B/data/main_data/train_cat_new/turning_around/SGA2101189S0125IMG0004.jpg is same as /media/Data-B/data/main_data/val_cat_new/turning_around/SGA2101189S0125IMG0004.jpg\n",
      "/media/Data-B/data/main_data/train_cat_new/turning_around/SGA2100024S0172IMG0001.jpg is same as /media/Data-B/data/main_data/val_cat_new/turning_around/SGA2100024S0172IMG0001.jpg\n",
      "/media/Data-B/data/main_data/train_cat_new/turning_around/SGA2101184S0315IMG0003.jpg is same as /media/Data-B/data/main_data/val_cat_new/turning_around/SGA2101184S0315IMG0003.jpg\n",
      "/media/Data-B/data/main_data/train_cat_new/turning_around/SGA2100041S0136IMG0004.jpg is same as /media/Data-B/data/main_data/val_cat_new/turning_around/SGA2100041S0136IMG0004.jpg\n",
      "/media/Data-B/data/main_data/train_cat_new/turning_around/SGA2101026S0989IMG0002.jpg is same as /media/Data-B/data/main_data/val_cat_new/turning_around/SGA2101026S0989IMG0002.jpg\n",
      "/media/Data-B/data/main_data/train_cat_new/turning_around/SGA2100159S0309IMG0004.jpg is same as /media/Data-B/data/main_data/val_cat_new/turning_around/SGA2100159S0309IMG0004.jpg\n",
      "/media/Data-B/data/main_data/train_cat_new/turning_around/SGA2101219S1434IMG0003.jpg is same as /media/Data-B/data/main_data/val_cat_new/turning_around/SGA2101219S1434IMG0003.jpg\n"
     ]
    },
    {
     "name": "stderr",
     "output_type": "stream",
     "text": [
      "100%|██████████| 3418/3418 [00:03<00:00, 976.44it/s] "
     ]
    },
    {
     "name": "stdout",
     "output_type": "stream",
     "text": [
      "/media/Data-B/data/main_data/train_cat_new/turning_around/SGA2100458S0559IMG0002.jpg is same as /media/Data-B/data/main_data/val_cat_new/turning_around/SGA2100458S0559IMG0002.jpg\n",
      "/media/Data-B/data/main_data/train_cat_new/turning_around/SGA2101026S0470IMG0002.jpg is same as /media/Data-B/data/main_data/val_cat_new/turning_around/SGA2101026S0470IMG0002.jpg\n",
      "/media/Data-B/data/main_data/train_cat_new/turning_around/SGA2100136S0347IMG0001.jpg is same as /media/Data-B/data/main_data/val_cat_new/turning_around/SGA2100136S0347IMG0001.jpg\n",
      "/media/Data-B/data/main_data/train_cat_new/turning_around/SGA2100106S0350IMG0003.jpg is same as /media/Data-B/data/main_data/val_cat_new/turning_around/SGA2100106S0350IMG0003.jpg\n",
      "/media/Data-B/data/main_data/train_cat_new/turning_around/SGA2100603S0025IMG0003.jpg is same as /media/Data-B/data/main_data/val_cat_new/turning_around/SGA2100603S0025IMG0003.jpg\n",
      "/media/Data-B/data/main_data/train_cat_new/turning_around/SGA2100404S0446IMG0003.jpg is same as /media/Data-B/data/main_data/val_cat_new/turning_around/SGA2100404S0446IMG0003.jpg\n",
      "/media/Data-B/data/main_data/train_cat_new/turning_around/SGA2101338S0111IMG0003.jpg is same as /media/Data-B/data/main_data/val_cat_new/turning_around/SGA2101338S0111IMG0003.jpg\n",
      "/media/Data-B/data/main_data/train_cat_new/turning_around/SGA2101046S0144IMG0002.jpg is same as /media/Data-B/data/main_data/val_cat_new/turning_around/SGA2101046S0144IMG0002.jpg\n",
      "/media/Data-B/data/main_data/train_cat_new/turning_around/SGA2100109S0275IMG0002.jpg is same as /media/Data-B/data/main_data/val_cat_new/turning_around/SGA2100109S0275IMG0002.jpg\n",
      "/media/Data-B/data/main_data/train_cat_new/turning_around/SGA2100681S2044IMG0002.jpg is same as /media/Data-B/data/main_data/val_cat_new/turning_around/SGA2100681S2044IMG0002.jpg\n",
      "/media/Data-B/data/main_data/train_cat_new/turning_around/SGA2100605S0031IMG0004.jpg is same as /media/Data-B/data/main_data/val_cat_new/turning_around/SGA2100605S0031IMG0004.jpg\n",
      "/media/Data-B/data/main_data/train_cat_new/turning_around/SGA2100826S0730IMG0003.jpg is same as /media/Data-B/data/main_data/val_cat_new/turning_around/SGA2100826S0730IMG0003.jpg\n",
      "/media/Data-B/data/main_data/train_cat_new/turning_around/SGA2100485S0158IMG0002.jpg is same as /media/Data-B/data/main_data/val_cat_new/turning_around/SGA2100485S0158IMG0002.jpg\n",
      "/media/Data-B/data/main_data/train_cat_new/turning_around/SGA2100605S0258IMG0002.jpg is same as /media/Data-B/data/main_data/val_cat_new/turning_around/SGA2100605S0258IMG0002.jpg\n",
      "/media/Data-B/data/main_data/train_cat_new/turning_around/SGA2101046S0245IMG0002.jpg is same as /media/Data-B/data/main_data/val_cat_new/turning_around/SGA2101046S0245IMG0002.jpg\n",
      "/media/Data-B/data/main_data/train_cat_new/turning_around/SGA2100132S0222IMG0004.jpg is same as /media/Data-B/data/main_data/val_cat_new/turning_around/SGA2100132S0222IMG0004.jpg\n",
      "/media/Data-B/data/main_data/train_cat_new/turning_around/SGA2100815S0025IMG0003.jpg is same as /media/Data-B/data/main_data/val_cat_new/turning_around/SGA2100815S0025IMG0003.jpg\n"
     ]
    },
    {
     "name": "stderr",
     "output_type": "stream",
     "text": [
      "\n"
     ]
    }
   ],
   "source": [
    "import os\n",
    "from PIL import Image\n",
    "from tqdm import tqdm\n",
    "\n",
    "# Define two directories to compare\n",
    "dir1 = '/media/Data-B/data/main_data/train_cat_new/turning_around'\n",
    "dir2 = '/media/Data-B/data/main_data/val_cat_new/turning_around'\n",
    "\n",
    "# Define a function to get image file paths from a directory\n",
    "def get_image_paths(directory):\n",
    "    image_paths = []\n",
    "    for file in os.listdir(directory):\n",
    "        if file.endswith('.jpg') or file.endswith('.jpeg') or file.endswith('.png'):\n",
    "            image_paths.append(os.path.join(directory, file))\n",
    "    return image_paths\n",
    "\n",
    "# Get image paths from both directories\n",
    "dir1_images = get_image_paths(dir1)\n",
    "dir2_images = get_image_paths(dir2)\n",
    "\n",
    "# Create a dictionary to keep track of the images in dir1\n",
    "image_dict = {}\n",
    "for image1_path in tqdm(dir1_images):\n",
    "    # Open image1 and add to dictionary\n",
    "    image1 = Image.open(image1_path)\n",
    "    image_dict[image1.tobytes()] = image1_path\n",
    "    # Close image1\n",
    "    image1.close()\n",
    "\n",
    "# Check for duplicates in dir2\n",
    "for image2_path in tqdm(dir2_images):\n",
    "    # Open image2\n",
    "    image2 = Image.open(image2_path)\n",
    "    # Check if image2 already exists in the dictionary\n",
    "    if image2.tobytes() in image_dict:\n",
    "        print(f\"{image2_path} is same as {image_dict[image2.tobytes()]}\")\n",
    "    # Close image2\n",
    "    image2.close()\n"
   ]
  },
  {
   "cell_type": "code",
   "execution_count": null,
   "metadata": {},
   "outputs": [],
   "source": []
  }
 ],
 "metadata": {
  "kernelspec": {
   "display_name": "base",
   "language": "python",
   "name": "python3"
  },
  "language_info": {
   "codemirror_mode": {
    "name": "ipython",
    "version": 3
   },
   "file_extension": ".py",
   "mimetype": "text/x-python",
   "name": "python",
   "nbconvert_exporter": "python",
   "pygments_lexer": "ipython3",
   "version": "3.9.13"
  },
  "orig_nbformat": 4
 },
 "nbformat": 4,
 "nbformat_minor": 2
}
